{
 "cells": [
  {
   "cell_type": "code",
   "execution_count": 2,
   "id": "2c5b70be-cc56-4edb-968c-e05c43527057",
   "metadata": {},
   "outputs": [],
   "source": [
    "import pathlib\n",
    "import cv2"
   ]
  },
  {
   "cell_type": "code",
   "execution_count": 3,
   "id": "392aee0d-97bf-421c-a39f-92dfbc795070",
   "metadata": {},
   "outputs": [],
   "source": [
    "cascade_path=pathlib.Path(cv2.__file__).parent.absolute() / \"data/haarcascade_frontalface_default.xml\""
   ]
  },
  {
   "cell_type": "code",
   "execution_count": 4,
   "id": "3443b670-6741-4ef1-922e-6e4a1647d827",
   "metadata": {},
   "outputs": [
    {
     "name": "stdout",
     "output_type": "stream",
     "text": [
      "C:\\Users\\KIBE\\AppData\\Local\\Programs\\Python\\Python310\\lib\\site-packages\\cv2\\data\\haarcascade_frontalface_default.xml\n"
     ]
    }
   ],
   "source": [
    "print(cascade_path)"
   ]
  },
  {
   "cell_type": "code",
   "execution_count": 5,
   "id": "632ff4c4-ac3e-4c22-9d1e-e66198161325",
   "metadata": {},
   "outputs": [],
   "source": [
    "clf=cv2.CascadeClassifier(str(cascade_path))"
   ]
  },
  {
   "cell_type": "code",
   "execution_count": 6,
   "id": "5fcbf35e-e316-4cf6-a78d-bcff6a00f0d9",
   "metadata": {},
   "outputs": [],
   "source": [
    "# Initialize the video capture\n",
    "# Use 0 for the default webcam\n",
    "camera = cv2.VideoCapture(0)  \n",
    "#camera = cv2.VideoCapture(\"video.mp4\") "
   ]
  },
  {
   "cell_type": "code",
   "execution_count": null,
   "id": "2f4cc246-f99b-422d-bb7c-a52c5175a93c",
   "metadata": {},
   "outputs": [],
   "source": [
    "while True:\n",
    "    # Read a frame from the video capture\n",
    "    ret, frame = camera.read()\n",
    "    # Check if the frame is not empty\n",
    "    if not ret:\n",
    "        break\n",
    "    gray = cv2.cvtColor(frame, cv2.COLOR_BGR2GRAY)\n",
    "    faces=clf.detectMultiScale(\n",
    "        gray,\n",
    "        scaleFactor=1.1,\n",
    "        minNeighbors=5,\n",
    "        minSize=(30,30),\n",
    "        flags=cv2.CASCADE_SCALE_IMAGE\n",
    "    )\n",
    "    for(x,y,width,height) in faces:\n",
    "        cv2.rectangle(frame, (x,y), (x+width, y+height), (255,255,0), 2)\n",
    "    cv2.imshow(\"Faces\", frame)\n",
    "    if cv2.waitKey(1) == ord(\"q\"):\n",
    "        break\n",
    "camera.release()\n",
    "cv2.destroyAllWindows()"
   ]
  },
  {
   "cell_type": "code",
   "execution_count": null,
   "id": "d8fd8372-1621-4920-a8c8-f7d5cbfd7848",
   "metadata": {},
   "outputs": [],
   "source": []
  },
  {
   "cell_type": "code",
   "execution_count": null,
   "id": "a4cbea50-0f72-4000-9f28-eeda7f220fc5",
   "metadata": {},
   "outputs": [],
   "source": []
  }
 ],
 "metadata": {
  "kernelspec": {
   "display_name": "Python 3 (ipykernel)",
   "language": "python",
   "name": "python3"
  },
  "language_info": {
   "codemirror_mode": {
    "name": "ipython",
    "version": 3
   },
   "file_extension": ".py",
   "mimetype": "text/x-python",
   "name": "python",
   "nbconvert_exporter": "python",
   "pygments_lexer": "ipython3",
   "version": "3.10.8"
  }
 },
 "nbformat": 4,
 "nbformat_minor": 5
}
