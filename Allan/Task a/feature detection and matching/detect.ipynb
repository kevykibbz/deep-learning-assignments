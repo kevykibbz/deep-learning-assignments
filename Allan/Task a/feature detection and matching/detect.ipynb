{
 "cells": [
  {
   "cell_type": "code",
   "execution_count": 1,
   "id": "bb560a73-4f1e-40ac-ac60-25a3d06f47f0",
   "metadata": {},
   "outputs": [],
   "source": [
    "import cv2"
   ]
  },
  {
   "cell_type": "code",
   "execution_count": 2,
   "id": "4c7ec1b1-5bf1-4597-a70c-220a1fc1e5c9",
   "metadata": {},
   "outputs": [],
   "source": [
    "# Load the images\n",
    "image1 = cv2.imread('dataset/Image_1.jpg', cv2.IMREAD_GRAYSCALE)\n",
    "image2 = cv2.imread('dataset/Image_2.jpeg', cv2.IMREAD_GRAYSCALE)"
   ]
  },
  {
   "cell_type": "code",
   "execution_count": 3,
   "id": "81c70f1a-b0e6-4216-b58d-635243618cd7",
   "metadata": {},
   "outputs": [],
   "source": [
    "# Initialize the feature detector (SIFT) and feature matcher (Brute-Force)\n",
    "sift = cv2.SIFT_create()\n",
    "bf = cv2.BFMatcher()"
   ]
  },
  {
   "cell_type": "code",
   "execution_count": 4,
   "id": "8feeb1b6-9ddb-4eaf-9980-46ccada3df15",
   "metadata": {},
   "outputs": [],
   "source": [
    "# Detect and compute the keypoints and descriptors for the images\n",
    "keypoints1, descriptors1 = sift.detectAndCompute(image1, None)\n",
    "keypoints2, descriptors2 = sift.detectAndCompute(image2, None)"
   ]
  },
  {
   "cell_type": "code",
   "execution_count": 5,
   "id": "9fbe43e6-1440-4f71-85a6-5f286f481e19",
   "metadata": {},
   "outputs": [],
   "source": [
    "# Match the descriptors using the Brute-Force matcher\n",
    "matches = bf.match(descriptors1, descriptors2)"
   ]
  },
  {
   "cell_type": "code",
   "execution_count": 6,
   "id": "caa9a436-daaa-4228-bceb-44992f5462f0",
   "metadata": {},
   "outputs": [],
   "source": [
    "# Sort the matches by distance\n",
    "matches = sorted(matches, key=lambda x: x.distance)"
   ]
  },
  {
   "cell_type": "code",
   "execution_count": 7,
   "id": "d4c6c324-9e54-4164-adbb-71c805e08194",
   "metadata": {},
   "outputs": [],
   "source": [
    "# Draw the top N matches\n",
    "N = 10\n",
    "matched_image = cv2.drawMatches(image1, keypoints1, image2, keypoints2, matches[:N], None, flags=cv2.DrawMatchesFlags_NOT_DRAW_SINGLE_POINTS)"
   ]
  },
  {
   "cell_type": "code",
   "execution_count": 8,
   "id": "05eaf256-85a1-41ac-841a-dfaa6a8614ec",
   "metadata": {},
   "outputs": [],
   "source": [
    "# Display the matched image\n",
    "cv2.imshow('Feature Matching', matched_image)\n",
    "cv2.waitKey(0)\n",
    "cv2.destroyAllWindows()"
   ]
  },
  {
   "cell_type": "code",
   "execution_count": null,
   "id": "68987c26-f7f4-40ca-a957-52108afa96df",
   "metadata": {},
   "outputs": [],
   "source": []
  }
 ],
 "metadata": {
  "kernelspec": {
   "display_name": "Python 3 (ipykernel)",
   "language": "python",
   "name": "python3"
  },
  "language_info": {
   "codemirror_mode": {
    "name": "ipython",
    "version": 3
   },
   "file_extension": ".py",
   "mimetype": "text/x-python",
   "name": "python",
   "nbconvert_exporter": "python",
   "pygments_lexer": "ipython3",
   "version": "3.12.1"
  }
 },
 "nbformat": 4,
 "nbformat_minor": 5
}
