{
 "cells": [
  {
   "cell_type": "code",
   "execution_count": 1,
   "id": "ce86a36a-2839-40c2-978e-87196f7f7a43",
   "metadata": {},
   "outputs": [],
   "source": [
    "import cv2"
   ]
  },
  {
   "cell_type": "code",
   "execution_count": 2,
   "id": "da0b09fa-a672-4f06-b4ff-72064bd800fe",
   "metadata": {},
   "outputs": [],
   "source": [
    "# Initialize the video capture\n",
    "video_capture = cv2.VideoCapture(0)  # Use 0 for the default webcam"
   ]
  },
  {
   "cell_type": "code",
   "execution_count": 3,
   "id": "dcbeea3a-8d87-43e9-b4c8-80c55d681076",
   "metadata": {},
   "outputs": [],
   "source": [
    "# Initialize the background subtractor\n",
    "background_subtractor = cv2.createBackgroundSubtractorMOG2()"
   ]
  },
  {
   "cell_type": "code",
   "execution_count": null,
   "id": "3c2fd31e-c5cd-4e60-a89a-2998e3d5d0a4",
   "metadata": {},
   "outputs": [],
   "source": [
    "while True:\n",
    "    # Read a frame from the video capture\n",
    "    ret, frame = video_capture.read()\n",
    "    \n",
    "    # Apply background subtraction\n",
    "    mask = background_subtractor.apply(frame)\n",
    "    \n",
    "    # Perform morphological operations to remove noise\n",
    "    kernel = cv2.getStructuringElement(cv2.MORPH_ELLIPSE, (5, 5))\n",
    "    mask = cv2.morphologyEx(mask, cv2.MORPH_OPEN, kernel)\n",
    "    \n",
    "    # Find contours of moving objects\n",
    "    contours, _ = cv2.findContours(mask, cv2.RETR_EXTERNAL, cv2.CHAIN_APPROX_SIMPLE)\n",
    "    \n",
    "    # Draw bounding rectangles around moving objects\n",
    "    for contour in contours:\n",
    "        if cv2.contourArea(contour) > 1000:  # Adjust the area threshold as needed\n",
    "            (x, y, w, h) = cv2.boundingRect(contour)\n",
    "            cv2.rectangle(frame, (x, y), (x+w, y+h), (0, 255, 0), 2)\n",
    "    \n",
    "    # Display the resulting frame\n",
    "    cv2.imshow('Motion Tracking', frame)\n",
    "    \n",
    "    # Exit loop if 'q' is pressed\n",
    "    if cv2.waitKey(1) & 0xFF == ord('q'):\n",
    "        break\n",
    "\n",
    "# Release the video capture and close windows\n",
    "video_capture.release()\n",
    "cv2.destroyAllWindows()"
   ]
  },
  {
   "cell_type": "code",
   "execution_count": null,
   "id": "a867c94f-1c11-476c-9745-d96d14b078a9",
   "metadata": {},
   "outputs": [],
   "source": []
  }
 ],
 "metadata": {
  "kernelspec": {
   "display_name": "Python 3 (ipykernel)",
   "language": "python",
   "name": "python3"
  },
  "language_info": {
   "codemirror_mode": {
    "name": "ipython",
    "version": 3
   },
   "file_extension": ".py",
   "mimetype": "text/x-python",
   "name": "python",
   "nbconvert_exporter": "python",
   "pygments_lexer": "ipython3",
   "version": "3.10.8"
  }
 },
 "nbformat": 4,
 "nbformat_minor": 5
}
