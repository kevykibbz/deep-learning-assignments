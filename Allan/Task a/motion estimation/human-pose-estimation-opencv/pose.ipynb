{
 "cells": [
  {
   "cell_type": "code",
   "execution_count": 7,
   "id": "32f26cf7-10cf-4db0-9a36-3d8acade0196",
   "metadata": {},
   "outputs": [],
   "source": [
    "import cv2"
   ]
  },
  {
   "cell_type": "code",
   "execution_count": 8,
   "id": "78e4e5a2-5d9c-4a4f-a9d4-5383f6315c6a",
   "metadata": {},
   "outputs": [],
   "source": [
    "# Load the pre-trained pose estimation model\n",
    "net = cv2.dnn.readNetFromTensorflow('graph_opt.pb')\n",
    "\n",
    "# Load the input image\n",
    "image = cv2.imread('image.jpg')"
   ]
  },
  {
   "cell_type": "code",
   "execution_count": 9,
   "id": "2bbad3b5-a150-4343-8537-280ffe3b7639",
   "metadata": {},
   "outputs": [],
   "source": [
    "# Prepare the image for pose estimation\n",
    "blob = cv2.dnn.blobFromImage(image, 1.0, (368, 368), (127.5, 127.5, 127.5), swapRB=True, crop=False)\n",
    "\n",
    "# Set the input blob for the network\n",
    "net.setInput(blob)\n",
    "\n",
    "# Run forward pass through the network\n",
    "output = net.forward()\n",
    "\n",
    "# Extract the keypoints from the output\n",
    "keypoints = output[0, :, :, :]"
   ]
  },
  {
   "cell_type": "code",
   "execution_count": 10,
   "id": "93995d32-ea57-45c6-9813-e526744c1116",
   "metadata": {},
   "outputs": [],
   "source": [
    "# Iterate over the keypoints and draw them on the image\n",
    "for i in range(keypoints.shape[0]):\n",
    "    # Get the x, y coordinates and confidence score for each keypoint\n",
    "    x = int(keypoints[i, 0, 0])\n",
    "    y = int(keypoints[i, 0, 1])\n",
    "    confidence = keypoints[i, 0, 2]\n",
    "\n",
    "    # Draw a circle at the keypoint position if confidence is above a threshold\n",
    "    if confidence > 0.5:\n",
    "        cv2.circle(image, (x, y), 5, (0, 255, 0), -1)\n",
    "\n",
    "# Display the result\n",
    "cv2.imshow('Pose Estimation', image)\n",
    "cv2.waitKey(0)\n",
    "cv2.destroyAllWindows()"
   ]
  },
  {
   "cell_type": "code",
   "execution_count": null,
   "id": "b8c0b471-12af-4079-b3ee-eeb48d067770",
   "metadata": {},
   "outputs": [],
   "source": []
  }
 ],
 "metadata": {
  "kernelspec": {
   "display_name": "Python 3 (ipykernel)",
   "language": "python",
   "name": "python3"
  },
  "language_info": {
   "codemirror_mode": {
    "name": "ipython",
    "version": 3
   },
   "file_extension": ".py",
   "mimetype": "text/x-python",
   "name": "python",
   "nbconvert_exporter": "python",
   "pygments_lexer": "ipython3",
   "version": "3.10.10"
  }
 },
 "nbformat": 4,
 "nbformat_minor": 5
}
