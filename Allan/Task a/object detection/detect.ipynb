{
 "cells": [
  {
   "cell_type": "code",
   "execution_count": 1,
   "id": "f655cc0e-913b-4896-9f88-3264a5720b22",
   "metadata": {},
   "outputs": [
    {
     "name": "stdout",
     "output_type": "stream",
     "text": [
      "WARNING:tensorflow:From C:\\Users\\KIBE\\AppData\\Local\\Programs\\Python\\Python310\\lib\\site-packages\\keras\\src\\losses.py:2976: The name tf.losses.sparse_softmax_cross_entropy is deprecated. Please use tf.compat.v1.losses.sparse_softmax_cross_entropy instead.\n",
      "\n"
     ]
    }
   ],
   "source": [
    "import cv2\n",
    "import numpy as np\n",
    "import tensorflow as tf"
   ]
  },
  {
   "cell_type": "code",
   "execution_count": 2,
   "id": "bbd2bcb0-7809-42a9-b8c5-3b1a5e4d0ca0",
   "metadata": {},
   "outputs": [
    {
     "name": "stdout",
     "output_type": "stream",
     "text": [
      "WARNING:tensorflow:From C:\\Users\\KIBE\\AppData\\Local\\Programs\\Python\\Python310\\lib\\site-packages\\keras\\src\\backend.py:1398: The name tf.executing_eagerly_outside_functions is deprecated. Please use tf.compat.v1.executing_eagerly_outside_functions instead.\n",
      "\n",
      "WARNING:tensorflow:From C:\\Users\\KIBE\\AppData\\Local\\Programs\\Python\\Python310\\lib\\site-packages\\keras\\src\\layers\\normalization\\batch_normalization.py:979: The name tf.nn.fused_batch_norm is deprecated. Please use tf.compat.v1.nn.fused_batch_norm instead.\n",
      "\n",
      "Downloading data from https://storage.googleapis.com/tensorflow/keras-applications/mobilenet_v2/mobilenet_v2_weights_tf_dim_ordering_tf_kernels_1.0_224.h5\n",
      "14536120/14536120 [==============================] - 25s 2us/step\n"
     ]
    }
   ],
   "source": [
    "# Load the pre-trained MobileNet model\n",
    "model = tf.keras.applications.MobileNetV2(weights='imagenet')"
   ]
  },
  {
   "cell_type": "code",
   "execution_count": 3,
   "id": "ef78c15b-6ed1-4e09-926a-434fe98f7418",
   "metadata": {},
   "outputs": [
    {
     "name": "stdout",
     "output_type": "stream",
     "text": [
      "[[[255 255 255]\n",
      "  [255 255 255]\n",
      "  [255 255 255]\n",
      "  ...\n",
      "  [255 255 255]\n",
      "  [255 255 255]\n",
      "  [255 255 255]]\n",
      "\n",
      " [[255 255 255]\n",
      "  [255 255 255]\n",
      "  [255 255 255]\n",
      "  ...\n",
      "  [255 255 255]\n",
      "  [255 255 255]\n",
      "  [255 255 255]]\n",
      "\n",
      " [[255 255 255]\n",
      "  [255 255 255]\n",
      "  [255 255 255]\n",
      "  ...\n",
      "  [255 255 255]\n",
      "  [255 255 255]\n",
      "  [255 255 255]]\n",
      "\n",
      " ...\n",
      "\n",
      " [[255 255 255]\n",
      "  [255 255 255]\n",
      "  [255 255 255]\n",
      "  ...\n",
      "  [255 255 255]\n",
      "  [255 255 255]\n",
      "  [255 255 255]]\n",
      "\n",
      " [[255 255 255]\n",
      "  [255 255 255]\n",
      "  [255 255 255]\n",
      "  ...\n",
      "  [255 255 255]\n",
      "  [255 255 255]\n",
      "  [255 255 255]]\n",
      "\n",
      " [[255 255 255]\n",
      "  [255 255 255]\n",
      "  [255 255 255]\n",
      "  ...\n",
      "  [255 255 255]\n",
      "  [255 255 255]\n",
      "  [255 255 255]]]\n"
     ]
    }
   ],
   "source": [
    "# Load the image\n",
    "image = cv2.imread('dataset/object.jpg')\n",
    "\n",
    "# Preprocess the image\n",
    "resized_image = cv2.resize(image, (224, 224))\n",
    "print(resized_image)\n",
    "input_image = tf.keras.applications.mobilenet.preprocess_input(resized_image)"
   ]
  },
  {
   "cell_type": "code",
   "execution_count": 4,
   "id": "0f883d8e-3144-43b6-b09a-0511ce112853",
   "metadata": {},
   "outputs": [
    {
     "name": "stdout",
     "output_type": "stream",
     "text": [
      "1/1 [==============================] - 2s 2s/step\n"
     ]
    }
   ],
   "source": [
    "# Add batch dimension\n",
    "input_image = np.expand_dims(input_image, axis=0)\n",
    "\n",
    "# Perform object recognition\n",
    "predictions = model.predict(input_image)"
   ]
  },
  {
   "cell_type": "code",
   "execution_count": 5,
   "id": "b4a40c7a-2c02-4558-93d5-7dff3c91dc3b",
   "metadata": {},
   "outputs": [
    {
     "name": "stdout",
     "output_type": "stream",
     "text": [
      "Downloading data from https://storage.googleapis.com/download.tensorflow.org/data/imagenet_class_index.json\n",
      "35363/35363 [==============================] - 0s 3us/step\n"
     ]
    }
   ],
   "source": [
    "# Get the top 5 predicted classes and their probabilities\n",
    "top_predictions = tf.keras.applications.mobilenet.decode_predictions(predictions, top=5)[0]\n"
   ]
  },
  {
   "cell_type": "code",
   "execution_count": null,
   "id": "51a46b00-4d45-4a95-9c36-ef0469875916",
   "metadata": {},
   "outputs": [
    {
     "name": "stdout",
     "output_type": "stream",
     "text": [
      "Class: folding_chair, Probability: 0.31155693531036377\n",
      "Class: rocking_chair, Probability: 0.08330704271793365\n",
      "Class: dining_table, Probability: 0.057280655950307846\n",
      "Class: desk, Probability: 0.01616540551185608\n",
      "Class: hook, Probability: 0.008895990438759327\n"
     ]
    }
   ],
   "source": [
    "# Display the top predictions\n",
    "for pred in top_predictions:\n",
    "    class_name = pred[1]\n",
    "    probability = pred[2]\n",
    "    print(f\"Class: {class_name}, Probability: {probability}\")\n",
    "\n",
    "# Display the image\n",
    "cv2.imshow('Object Recognition', image)\n",
    "cv2.waitKey(0)\n",
    "cv2.destroyAllWindows()"
   ]
  },
  {
   "cell_type": "code",
   "execution_count": null,
   "id": "0e4266d6-4ede-4aff-b0c0-3b489f8bba8c",
   "metadata": {},
   "outputs": [],
   "source": []
  }
 ],
 "metadata": {
  "kernelspec": {
   "display_name": "Python 3 (ipykernel)",
   "language": "python",
   "name": "python3"
  },
  "language_info": {
   "codemirror_mode": {
    "name": "ipython",
    "version": 3
   },
   "file_extension": ".py",
   "mimetype": "text/x-python",
   "name": "python",
   "nbconvert_exporter": "python",
   "pygments_lexer": "ipython3",
   "version": "3.10.8"
  }
 },
 "nbformat": 4,
 "nbformat_minor": 5
}
